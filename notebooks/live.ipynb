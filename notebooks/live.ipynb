{
 "cells": [
  {
   "cell_type": "markdown",
   "id": "c0ec4617-f64d-44df-92c4-05b617a6e635",
   "metadata": {},
   "source": [
    "# Gravity data processing"
   ]
  },
  {
   "cell_type": "code",
   "execution_count": null,
   "id": "d4f90298-1233-4bb3-b9ab-cfeab59ab975",
   "metadata": {},
   "outputs": [],
   "source": [
    "import numpy as np\n",
    "import pandas as pd\n",
    "import xarray as xr\n",
    "import pyproj\n",
    "import pygmt\n",
    "\n",
    "import ensaio\n",
    "import verde as vd\n",
    "import boule as bl\n",
    "import harmonica as hm"
   ]
  },
  {
   "cell_type": "markdown",
   "id": "74c4f44d-4d35-4566-85d2-706867e7f90a",
   "metadata": {},
   "source": [
    "## Download gravity data"
   ]
  },
  {
   "cell_type": "code",
   "execution_count": null,
   "id": "1f2b6706-fa7c-4526-bb8b-894403eed04a",
   "metadata": {},
   "outputs": [],
   "source": []
  },
  {
   "cell_type": "code",
   "execution_count": null,
   "id": "012d66cb-9a98-4e9e-b886-f8c5ab2dad45",
   "metadata": {},
   "outputs": [],
   "source": []
  },
  {
   "cell_type": "code",
   "execution_count": null,
   "id": "e187091c-55b0-49e7-98e5-a940e789d04d",
   "metadata": {},
   "outputs": [],
   "source": [
    "gmt_projection = \"M12c\"\n",
    "\n",
    "fig = pygmt.Figure()\n",
    "vmin, vmax =  data.gravity_mgal.min(), data.gravity_mgal.max()\n",
    "pygmt.makecpt(cmap=\"viridis\", series=[vmin, vmax])\n",
    "fig.plot(\n",
    "    x=data.longitude,\n",
    "    y=data.latitude,\n",
    "    fill=data.gravity_mgal,\n",
    "    cmap=True,\n",
    "    style=\"c2p\",\n",
    "    projection=gmt_projection,\n",
    "    frame=\"af\",\n",
    ")\n",
    "fig.coast(water=\"#8fcae7\")\n",
    "fig.colorbar(position=\"JMR+o0.5c/0c+w8.5c/0.3c\", frame=['af', 'y+l\"mGal\"'])\n",
    "fig.show()"
   ]
  },
  {
   "cell_type": "markdown",
   "id": "0c61bd26-6985-4491-a6ed-42d57a96276b",
   "metadata": {},
   "source": [
    "## Download geoid to convert heights to ellipsoidal heights"
   ]
  },
  {
   "cell_type": "code",
   "execution_count": null,
   "id": "cdfc7200-e74e-40e1-8580-63e4177070ab",
   "metadata": {},
   "outputs": [],
   "source": []
  },
  {
   "cell_type": "code",
   "execution_count": null,
   "id": "8e24391d-e4a0-406b-a914-d70297efc21b",
   "metadata": {
    "scrolled": true
   },
   "outputs": [],
   "source": []
  },
  {
   "cell_type": "code",
   "execution_count": null,
   "id": "843285ab-7e06-4f25-bf4f-34b6f79ec636",
   "metadata": {},
   "outputs": [],
   "source": [
    "fig = pygmt.Figure()\n",
    "maxabs = vd.maxabs(geoid)\n",
    "pygmt.makecpt(series=[-maxabs, maxabs], cmap=\"polar+h\")\n",
    "fig.grdimage(\n",
    "    geoid,\n",
    "    projection=\"W10c\",\n",
    "    shading=\"+a45+nt0.2\",\n",
    ")\n",
    "fig.basemap(frame=[\"af\", \"WEsn\"])\n",
    "fig.colorbar(\n",
    "    position=\"JCB+w10c\",\n",
    "    frame=[\"af\", 'y+l\"m\"', 'x+l\"geoid height [m]\"'],\n",
    ")\n",
    "fig.show()"
   ]
  },
  {
   "cell_type": "markdown",
   "id": "e4b2b99f-7de4-4ea5-8788-6c6b590b5817",
   "metadata": {},
   "source": [
    "## Cut datasets to the Bushveld Igneous Complex"
   ]
  },
  {
   "cell_type": "code",
   "execution_count": null,
   "id": "4afe6a17-a6a3-4e02-b2b2-f81d6c65620b",
   "metadata": {},
   "outputs": [],
   "source": [
    "region = (25, 32, -28, -23)"
   ]
  },
  {
   "cell_type": "code",
   "execution_count": null,
   "id": "c99c9ff7-bf5f-4bcb-a872-81b4e909bbbb",
   "metadata": {},
   "outputs": [],
   "source": [
    "fig = pygmt.Figure()\n",
    "vmin, vmax =  data.gravity_mgal.min(), data.gravity_mgal.max()\n",
    "pygmt.makecpt(cmap=\"viridis\", series=[vmin, vmax])\n",
    "fig.plot(\n",
    "    x=data.longitude,\n",
    "    y=data.latitude,\n",
    "    fill=data.gravity_mgal,\n",
    "    cmap=True,\n",
    "    style=\"c2p\",\n",
    "    projection=gmt_projection,\n",
    "    frame=\"af\",\n",
    ")\n",
    "fig.plot(\n",
    "    x=[region[0], region[1], region[1], region[0], region[0]],\n",
    "    y=[region[3], region[3], region[2], region[2], region[3]],\n",
    "    pen=\"2p,orangered1,-\",\n",
    ")\n",
    "fig.coast(water=\"#8fcae7\")\n",
    "fig.colorbar(position=\"JMR+o0.5c/0c+w8.5c/0.3c\", frame=['af', 'y+l\"mGal\"'])\n",
    "fig.show()"
   ]
  },
  {
   "cell_type": "code",
   "execution_count": null,
   "id": "896669a8-0f9a-4206-a18b-f586e54dbfe5",
   "metadata": {},
   "outputs": [],
   "source": [
    "inside = vd.inside((data.longitude, data.latitude), region)\n",
    "data = data[inside]\n",
    "data"
   ]
  },
  {
   "cell_type": "code",
   "execution_count": null,
   "id": "30feed35-4bac-408c-9ab3-5b89f1b7022c",
   "metadata": {},
   "outputs": [],
   "source": [
    "fig = pygmt.Figure()\n",
    "vmin, vmax =  data.gravity_mgal.min(), data.gravity_mgal.max()\n",
    "pygmt.makecpt(cmap=\"viridis\", series=[vmin, vmax])\n",
    "fig.plot(\n",
    "    x=data.longitude,\n",
    "    y=data.latitude,\n",
    "    fill=data.gravity_mgal,\n",
    "    cmap=True,\n",
    "    style=\"c3p\",\n",
    "    projection=gmt_projection,\n",
    "    frame=\"af\",\n",
    ")\n",
    "fig.coast(water=\"#8fcae7\")\n",
    "fig.colorbar(position=\"JMR+o0.5c/0c+w8.5c/0.3c\", frame=['af', 'y+l\"mGal\"'])\n",
    "fig.show()"
   ]
  },
  {
   "cell_type": "code",
   "execution_count": null,
   "id": "f562b861-966e-4c81-a3e2-439a4e70e6d7",
   "metadata": {},
   "outputs": [],
   "source": [
    "region_pad = vd.pad_region(region, pad=5)\n",
    "region_pad"
   ]
  },
  {
   "cell_type": "code",
   "execution_count": null,
   "id": "b2a28e10-d1ba-4408-a58e-ed4c9e528f7b",
   "metadata": {},
   "outputs": [],
   "source": [
    "geoid = geoid.sel(longitude=slice(*region_pad[:2]), latitude=slice(*region_pad[2:]))\n",
    "geoid"
   ]
  },
  {
   "cell_type": "code",
   "execution_count": null,
   "id": "55723314-fe28-4ed5-afbc-467af29b90c1",
   "metadata": {},
   "outputs": [],
   "source": [
    "fig = pygmt.Figure()\n",
    "maxabs = vd.maxabs(geoid)\n",
    "pygmt.makecpt(series=[-maxabs, maxabs], cmap=\"polar+h\")\n",
    "fig.grdimage(\n",
    "    geoid,\n",
    "    projection=gmt_projection,\n",
    "    shading=\"+a45+nt0.2\",\n",
    ")\n",
    "fig.basemap(frame=[\"af\", \"WEsn\"])\n",
    "fig.colorbar(\n",
    "    position=\"JCB+w10c\",\n",
    "    frame=[\"af\", 'y+l\"m\"', 'x+l\"geoid height [m]\"'],\n",
    ")\n",
    "fig.show()"
   ]
  },
  {
   "cell_type": "markdown",
   "id": "78f97248-d5ab-4451-b18b-7baa560cae0e",
   "metadata": {},
   "source": [
    "## Project geographic data and get ellipsoidal heights"
   ]
  },
  {
   "cell_type": "code",
   "execution_count": null,
   "id": "cd3c3f92-a09a-4c83-bdfe-fe18fe756058",
   "metadata": {},
   "outputs": [],
   "source": [
    "projection = pyproj.Proj(proj=\"merc\", lat_ts=data.latitude.mean())"
   ]
  },
  {
   "cell_type": "code",
   "execution_count": null,
   "id": "fd37a8cc-790b-4de0-9947-552d772482fd",
   "metadata": {},
   "outputs": [],
   "source": [
    "easting, northing = projection(data.longitude.values, data.latitude.values)\n",
    "data = data.assign(easting_m=easting, northing_m=northing)\n",
    "data"
   ]
  },
  {
   "cell_type": "code",
   "execution_count": null,
   "id": "73291e08-7099-4239-ad8d-3f154080c19c",
   "metadata": {},
   "outputs": [],
   "source": [
    "geoid_proj = vd.project_grid(geoid, projection, method=\"nearest\")\n",
    "geoid_proj"
   ]
  },
  {
   "cell_type": "code",
   "execution_count": null,
   "id": "6b5b037e-54b5-4d16-bfcd-5d96c7f12ecd",
   "metadata": {},
   "outputs": [],
   "source": [
    "# Unravel the grid so that we can pass it to the interpolator\n",
    "geoid_table = vd.grid_to_table(geoid_proj)\n",
    "interpolator = vd.Cubic()\n",
    "interpolator.fit((geoid_table.easting, geoid_table.northing), geoid_table.geoid)\n",
    "\n",
    "# Predict the geoid height at same locations as the observation points\n",
    "data = data.assign(geoid_m=interpolator.predict((data.easting_m, data.northing_m)))\n",
    "data = data.assign(height_geometric_m=data.height_sea_level_m + data.geoid_m)\n",
    "data"
   ]
  },
  {
   "cell_type": "markdown",
   "id": "4bb647fc-1f64-4ba9-b79d-74d9757122e9",
   "metadata": {},
   "source": [
    "## Compute gravity disturbance"
   ]
  },
  {
   "cell_type": "code",
   "execution_count": null,
   "id": "1adf688f-234e-40d1-a330-397a719ec912",
   "metadata": {},
   "outputs": [],
   "source": []
  },
  {
   "cell_type": "code",
   "execution_count": null,
   "id": "1ad4edc2-564e-4313-8b38-9afe8762efdb",
   "metadata": {
    "jp-MarkdownHeadingCollapsed": true
   },
   "outputs": [],
   "source": []
  },
  {
   "cell_type": "code",
   "execution_count": null,
   "id": "8d760844-1767-4b7b-a0f4-5d413f4e28e9",
   "metadata": {},
   "outputs": [],
   "source": [
    "fig = pygmt.Figure()\n",
    "maxabs =  vd.maxabs(data.disturbance_mgal)\n",
    "pygmt.makecpt(cmap=\"polar+h\", series=[-maxabs, maxabs])\n",
    "fig.plot(\n",
    "    x=data.longitude,\n",
    "    y=data.latitude,\n",
    "    fill=data.disturbance_mgal,\n",
    "    cmap=True,\n",
    "    style=\"c3p\",\n",
    "    projection=gmt_projection,\n",
    "    frame=\"af\",\n",
    ")\n",
    "fig.coast(water=\"#8fcae7\")\n",
    "fig.colorbar(position=\"JMR+o0.5c/0c+w8.5c/0.3c\", frame=['af', 'y+l\"mGal\"'])\n",
    "fig.show()"
   ]
  },
  {
   "cell_type": "markdown",
   "id": "4bf2444f-f93d-4ee4-84e5-811df5f36556",
   "metadata": {},
   "source": [
    "## Terrain correction"
   ]
  },
  {
   "cell_type": "code",
   "execution_count": null,
   "id": "6526d9df-09e5-4b2d-ab40-25e5dcc96f5b",
   "metadata": {},
   "outputs": [],
   "source": [
    "fname = ensaio.fetch_earth_topography(version=1)\n",
    "topography = xr.load_dataarray(fname)\n",
    "topography"
   ]
  },
  {
   "cell_type": "code",
   "execution_count": null,
   "id": "d20dcc22-c54d-402f-bff9-7ff0bf18b7d3",
   "metadata": {},
   "outputs": [],
   "source": [
    "topography = topography.sel(longitude=slice(*region_pad[:2]), latitude=slice(*region_pad[2:]))\n",
    "topography"
   ]
  },
  {
   "cell_type": "code",
   "execution_count": null,
   "id": "6f19b17f-9fc8-4317-bad0-ed4736c76c64",
   "metadata": {},
   "outputs": [],
   "source": [
    "fig = pygmt.Figure()\n",
    "fig.grdimage(topography, projection=gmt_projection, cmap=\"etopo1\", frame=True)\n",
    "fig.colorbar(frame='af+l\"topography [m]\"')\n",
    "fig.coast(shorelines=\"white\", area_thresh=1e6)\n",
    "\n",
    "maxabs =  vd.maxabs(data.disturbance_mgal)\n",
    "pygmt.makecpt(cmap=\"polar+h\", series=[-maxabs, maxabs])\n",
    "fig.plot(\n",
    "    x=data.longitude,\n",
    "    y=data.latitude,\n",
    "    fill=data.disturbance_mgal,\n",
    "    cmap=True,\n",
    "    style=\"c1p\",\n",
    "    projection=gmt_projection,\n",
    ")\n",
    "\n",
    "fig.show()"
   ]
  },
  {
   "cell_type": "code",
   "execution_count": null,
   "id": "45fd8eb2-1dce-4a0a-b1f4-5aed77007e1f",
   "metadata": {},
   "outputs": [],
   "source": [
    "topography_proj = vd.project_grid(topography, projection, method=\"nearest\")\n",
    "topography_proj"
   ]
  },
  {
   "cell_type": "code",
   "execution_count": null,
   "id": "b020920e-4fdc-4d46-a850-cca7413c3c52",
   "metadata": {},
   "outputs": [],
   "source": [
    "topography_geometric = topography_proj + geoid_proj\n",
    "topography_geometric"
   ]
  },
  {
   "cell_type": "code",
   "execution_count": null,
   "id": "112fd1f5-5694-4e2b-8ac5-b89122dc6fae",
   "metadata": {},
   "outputs": [],
   "source": [
    "topography_density = np.where(topography_geometric > 0, 2670, 1040 - 2670)\n",
    "\n",
    "# Create the prism model of the topographic masses\n",
    "topography_model = hm.prism_layer(\n",
    "    coordinates=(topography_geometric.easting, topography_geometric.northing),\n",
    "    surface=topography_geometric,\n",
    "    reference=0,\n",
    "    properties={\"density\": topography_density}\n",
    ")\n",
    "topography_model"
   ]
  },
  {
   "cell_type": "code",
   "execution_count": null,
   "id": "6ac6535e-dcef-4393-97f7-24656f8d772f",
   "metadata": {},
   "outputs": [],
   "source": [
    "coordinates = (data.easting_m, data.northing_m, data.height_geometric_m)\n",
    "\n",
    "terrain_effect =  topography_model.prism_layer.gravity(coordinates, field=\"g_z\")\n",
    "bouguer = data.disturbance_mgal - terrain_effect\n",
    "\n",
    "data = data.assign(terrain_effect_mgal=terrain_effect)\n",
    "data = data.assign(gravity_bouguer_mgal=bouguer)\n",
    "data"
   ]
  },
  {
   "cell_type": "code",
   "execution_count": null,
   "id": "b2be076c-9ef7-40cb-bd69-4be2913e7435",
   "metadata": {},
   "outputs": [],
   "source": [
    "fig = pygmt.Figure()\n",
    "maxabs = vd.maxabs(data.gravity_bouguer_mgal)\n",
    "pygmt.makecpt(cmap=\"polar+h\", series=[-maxabs, maxabs])\n",
    "fig.plot(\n",
    "    x=data.longitude,\n",
    "    y=data.latitude,\n",
    "    fill=data.gravity_bouguer_mgal,\n",
    "    cmap=True,\n",
    "    style=\"c4p\",\n",
    "    projection=\"M15c\", \n",
    "    frame=True,\n",
    ")\n",
    "fig.colorbar(frame='af+l\"Bouguer disturbance [mGal]\"')\n",
    "fig.show()"
   ]
  },
  {
   "cell_type": "markdown",
   "id": "a9dd4edf-dce6-4187-b19a-938687e8fc3c",
   "metadata": {},
   "source": [
    "## Get residual"
   ]
  },
  {
   "cell_type": "code",
   "execution_count": null,
   "id": "0f95a164-a922-4e05-9ec1-36f7e17596a2",
   "metadata": {},
   "outputs": [],
   "source": [
    "# Create a set of deep sources at a depth of 500 km\n",
    "deep_sources = hm.EquivalentSources(damping=1000, depth=500e3)\n",
    "\n",
    "# Fit the sources to the data\n",
    "deep_sources.fit((data.easting_m, data.northing_m, data.height_geometric_m), data.gravity_bouguer_mgal)\n",
    "\n",
    "# Use the sources to predict the regional field\n",
    "regional = deep_sources.predict((data.easting_m, data.northing_m, data.height_geometric_m))\n",
    "\n",
    "# Calculate a residual field (which is what we want)\n",
    "residual =  data.gravity_bouguer_mgal - regional\n",
    "\n",
    "data = data.assign(gravity_residual_mgal=residual)\n",
    "data"
   ]
  },
  {
   "cell_type": "code",
   "execution_count": null,
   "id": "d0b0bca8-7f48-46cf-88a1-9ae1475a81b0",
   "metadata": {},
   "outputs": [],
   "source": [
    "fig = pygmt.Figure()\n",
    "maxabs = vd.maxabs(data.gravity_residual_mgal)\n",
    "pygmt.makecpt(cmap=\"polar+h\", series=[-maxabs, maxabs])\n",
    "fig.plot(\n",
    "    x=data.longitude,\n",
    "    y=data.latitude,\n",
    "    fill=data.gravity_residual_mgal,\n",
    "    cmap=True,\n",
    "    style=\"c4p\",\n",
    "    projection=\"M15c\", \n",
    "    frame=True,\n",
    ")\n",
    "fig.colorbar(frame='af+l\"Gravity residual [mGal]\"')\n",
    "fig.show()"
   ]
  },
  {
   "cell_type": "markdown",
   "id": "cea4fab2-9230-46f4-a4bc-ec8ffde5d930",
   "metadata": {},
   "source": [
    "## Grid"
   ]
  },
  {
   "cell_type": "code",
   "execution_count": null,
   "id": "ae3362f0-d77b-44e1-ab6d-8c930533e90b",
   "metadata": {},
   "outputs": [],
   "source": [
    "eqs = hm.EquivalentSources(damping=10, depth=10e3)\n",
    "eqs.fit(coordinates, data.gravity_residual_mgal)"
   ]
  },
  {
   "cell_type": "code",
   "execution_count": null,
   "id": "ca1ebc92-5ca5-4a02-a8d5-ab8547309de8",
   "metadata": {},
   "outputs": [],
   "source": [
    "grid_coords = vd.grid_coordinates(\n",
    "    region=region,\n",
    "    spacing=2/60, # decimal degrees\n",
    "    extra_coords=2200, # height in meters\n",
    ")\n",
    "residual_grid = eqs.grid(\n",
    "    coordinates=grid_coords,\n",
    "    data_names=[\"gravity_residual\"],\n",
    "    dims=(\"latitude\", \"longitude\"),\n",
    "    projection=projection,\n",
    ")\n",
    "residual_grid"
   ]
  },
  {
   "cell_type": "code",
   "execution_count": null,
   "id": "bad4cff5-d44e-4794-8fd2-d1326199066f",
   "metadata": {},
   "outputs": [],
   "source": [
    "fig = pygmt.Figure()\n",
    "scale = vd.maxabs(residual_grid.gravity_residual)\n",
    "pygmt.makecpt(cmap=\"polar\", series=[-scale, scale], no_bg=True)\n",
    "fig.grdimage(\n",
    "    residual_grid.gravity_residual,\n",
    "    shading=\"+a45+nt0.15\",\n",
    "    projection=\"M15c\",\n",
    "    frame=True,\n",
    ")\n",
    "fig.colorbar(frame='af+l\"residual field [mGal]\"')\n",
    "fig.plot(\n",
    "    x=data.longitude,\n",
    "    y=data.latitude,\n",
    "    style=\"c0.02c\",\n",
    "    color=\"black\",\n",
    ")\n",
    "fig.show()"
   ]
  },
  {
   "cell_type": "code",
   "execution_count": null,
   "id": "79927cb4-8430-45b0-92ee-8bf60a253552",
   "metadata": {},
   "outputs": [],
   "source": []
  }
 ],
 "metadata": {
  "kernelspec": {
   "display_name": "Python [conda env:2024-uh]",
   "language": "python",
   "name": "conda-env-2024-uh-py"
  },
  "language_info": {
   "codemirror_mode": {
    "name": "ipython",
    "version": 3
   },
   "file_extension": ".py",
   "mimetype": "text/x-python",
   "name": "python",
   "nbconvert_exporter": "python",
   "pygments_lexer": "ipython3",
   "version": "3.12.3"
  }
 },
 "nbformat": 4,
 "nbformat_minor": 5
}
